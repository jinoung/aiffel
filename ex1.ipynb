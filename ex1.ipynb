{
 "cells": [
  {
   "cell_type": "code",
   "execution_count": 3,
   "id": "300e6c0c",
   "metadata": {},
   "outputs": [
    {
     "data": {
      "text/plain": [
       "'c:\\\\DeepLearning\\\\aiffel'"
      ]
     },
     "execution_count": 3,
     "metadata": {},
     "output_type": "execute_result"
    }
   ],
   "source": [
    "%pwd"
   ]
  },
  {
   "cell_type": "code",
   "execution_count": 21,
   "id": "d03e5d68",
   "metadata": {},
   "outputs": [],
   "source": [
    "import os\n",
    "import shutil\n",
    "\n",
    "base_dir = 'C:/DeepLearning/aiffel/data/ex1/data_all_users'\n",
    "#base_dir=os.getenv(\"HOME\")+'/aiffel/EX/EX1/data_all_users'\n",
    "train_members = ['경은', '정우', '현빈', '현호', '현지', '서현', '예영', '진영']\n",
    "test_members = ['정인']\n",
    "#members = os.listdir(base_dir)\n",
    "categories = ['rock', 'scissor', 'paper']\n",
    "train_data_base = 'C:/DeepLearning/aiffel/data/ex1/train_data/'\n",
    "test_data_base = 'C:/DeepLearning/aiffel/data/ex1/test_data/'"
   ]
  },
  {
   "cell_type": "code",
   "execution_count": 22,
   "id": "90a275a0",
   "metadata": {},
   "outputs": [
    {
     "ename": "FileNotFoundError",
     "evalue": "[Errno 2] No such file or directory: 'C:/DeepLearning/aiffel/data/ex1/train_data/rock\\\\경은_0.jpg'",
     "output_type": "error",
     "traceback": [
      "\u001b[1;31m---------------------------------------------------------------------------\u001b[0m",
      "\u001b[1;31mFileNotFoundError\u001b[0m                         Traceback (most recent call last)",
      "\u001b[1;32m~\\AppData\\Local\\Temp/ipykernel_10492/1588186858.py\u001b[0m in \u001b[0;36m<module>\u001b[1;34m\u001b[0m\n\u001b[0;32m     15\u001b[0m                 \u001b[0mprint\u001b[0m\u001b[1;33m(\u001b[0m\u001b[0mimage_path_srt\u001b[0m\u001b[1;33m)\u001b[0m\u001b[1;33m\u001b[0m\u001b[1;33m\u001b[0m\u001b[0m\n\u001b[0;32m     16\u001b[0m \u001b[1;33m\u001b[0m\u001b[0m\n\u001b[1;32m---> 17\u001b[1;33m \u001b[0mget_data\u001b[0m\u001b[1;33m(\u001b[0m\u001b[0mtrain_members\u001b[0m\u001b[1;33m,\u001b[0m \u001b[0mtrain_data_base\u001b[0m\u001b[1;33m)\u001b[0m\u001b[1;33m\u001b[0m\u001b[1;33m\u001b[0m\u001b[0m\n\u001b[0m\u001b[0;32m     18\u001b[0m \u001b[0mget_data\u001b[0m\u001b[1;33m(\u001b[0m\u001b[0mtest_members\u001b[0m\u001b[1;33m,\u001b[0m \u001b[0mtest_data_base\u001b[0m\u001b[1;33m)\u001b[0m\u001b[1;33m\u001b[0m\u001b[1;33m\u001b[0m\u001b[0m\n\u001b[0;32m     19\u001b[0m \u001b[1;33m\u001b[0m\u001b[0m\n",
      "\u001b[1;32m~\\AppData\\Local\\Temp/ipykernel_10492/1588186858.py\u001b[0m in \u001b[0;36mget_data\u001b[1;34m(members, data_base)\u001b[0m\n\u001b[0;32m     12\u001b[0m                 \u001b[0mimage_path_src\u001b[0m \u001b[1;33m=\u001b[0m \u001b[0mos\u001b[0m\u001b[1;33m.\u001b[0m\u001b[0mpath\u001b[0m\u001b[1;33m.\u001b[0m\u001b[0mjoin\u001b[0m\u001b[1;33m(\u001b[0m\u001b[0mbase_dir\u001b[0m\u001b[1;33m,\u001b[0m \u001b[0mmember\u001b[0m\u001b[1;33m,\u001b[0m \u001b[0mcategory\u001b[0m\u001b[1;33m,\u001b[0m \u001b[0mimage\u001b[0m\u001b[1;33m)\u001b[0m\u001b[1;33m\u001b[0m\u001b[1;33m\u001b[0m\u001b[0m\n\u001b[0;32m     13\u001b[0m                 \u001b[0mimage_path_dst\u001b[0m \u001b[1;33m=\u001b[0m \u001b[0mos\u001b[0m\u001b[1;33m.\u001b[0m\u001b[0mpath\u001b[0m\u001b[1;33m.\u001b[0m\u001b[0mjoin\u001b[0m\u001b[1;33m(\u001b[0m\u001b[0mdata_base\u001b[0m\u001b[1;33m,\u001b[0m \u001b[0mcategory\u001b[0m\u001b[1;33m,\u001b[0m \u001b[0mimage_rename\u001b[0m\u001b[1;33m)\u001b[0m\u001b[1;33m\u001b[0m\u001b[1;33m\u001b[0m\u001b[0m\n\u001b[1;32m---> 14\u001b[1;33m                 \u001b[0mshutil\u001b[0m\u001b[1;33m.\u001b[0m\u001b[0mcopyfile\u001b[0m\u001b[1;33m(\u001b[0m\u001b[0mimage_path_src\u001b[0m\u001b[1;33m,\u001b[0m \u001b[0mimage_path_dst\u001b[0m\u001b[1;33m)\u001b[0m\u001b[1;33m\u001b[0m\u001b[1;33m\u001b[0m\u001b[0m\n\u001b[0m\u001b[0;32m     15\u001b[0m                 \u001b[0mprint\u001b[0m\u001b[1;33m(\u001b[0m\u001b[0mimage_path_srt\u001b[0m\u001b[1;33m)\u001b[0m\u001b[1;33m\u001b[0m\u001b[1;33m\u001b[0m\u001b[0m\n\u001b[0;32m     16\u001b[0m \u001b[1;33m\u001b[0m\u001b[0m\n",
      "\u001b[1;32m~\\anaconda3\\envs\\tutorial\\lib\\shutil.py\u001b[0m in \u001b[0;36mcopyfile\u001b[1;34m(src, dst, follow_symlinks)\u001b[0m\n\u001b[0;32m    263\u001b[0m     \u001b[1;32melse\u001b[0m\u001b[1;33m:\u001b[0m\u001b[1;33m\u001b[0m\u001b[1;33m\u001b[0m\u001b[0m\n\u001b[0;32m    264\u001b[0m         \u001b[1;32mtry\u001b[0m\u001b[1;33m:\u001b[0m\u001b[1;33m\u001b[0m\u001b[1;33m\u001b[0m\u001b[0m\n\u001b[1;32m--> 265\u001b[1;33m             \u001b[1;32mwith\u001b[0m \u001b[0mopen\u001b[0m\u001b[1;33m(\u001b[0m\u001b[0msrc\u001b[0m\u001b[1;33m,\u001b[0m \u001b[1;34m'rb'\u001b[0m\u001b[1;33m)\u001b[0m \u001b[1;32mas\u001b[0m \u001b[0mfsrc\u001b[0m\u001b[1;33m,\u001b[0m \u001b[0mopen\u001b[0m\u001b[1;33m(\u001b[0m\u001b[0mdst\u001b[0m\u001b[1;33m,\u001b[0m \u001b[1;34m'wb'\u001b[0m\u001b[1;33m)\u001b[0m \u001b[1;32mas\u001b[0m \u001b[0mfdst\u001b[0m\u001b[1;33m:\u001b[0m\u001b[1;33m\u001b[0m\u001b[1;33m\u001b[0m\u001b[0m\n\u001b[0m\u001b[0;32m    266\u001b[0m                 \u001b[1;31m# macOS\u001b[0m\u001b[1;33m\u001b[0m\u001b[1;33m\u001b[0m\u001b[0m\n\u001b[0;32m    267\u001b[0m                 \u001b[1;32mif\u001b[0m \u001b[0m_HAS_FCOPYFILE\u001b[0m\u001b[1;33m:\u001b[0m\u001b[1;33m\u001b[0m\u001b[1;33m\u001b[0m\u001b[0m\n",
      "\u001b[1;31mFileNotFoundError\u001b[0m: [Errno 2] No such file or directory: 'C:/DeepLearning/aiffel/data/ex1/train_data/rock\\\\경은_0.jpg'"
     ]
    }
   ],
   "source": [
    "train_data_size = 0\n",
    "test_data_size = 0\n",
    "\n",
    "n_img_size = 56\n",
    "\n",
    "def get_data(members, data_base):\n",
    "    for member in members:\n",
    "        for category in categories:\n",
    "            path = os.path.join(base_dir, member, category)\n",
    "            for image in os.listdir(path):\n",
    "                image_rename = member + '_' + image\n",
    "                image_path_src = os.path.join(base_dir, member, category, image)\n",
    "                image_path_dst = os.path.join(data_base, category, image_rename)\n",
    "                shutil.copyfile(image_path_src, image_path_dst)\n",
    "                print(image_path_srt)\n",
    "\n",
    "get_data(train_members, train_data_base)\n",
    "get_data(test_members, test_data_base)\n",
    "\n",
    "print(f\"총 {len(train_members)}명의 학습데이터가 모였습니다!!\")\n",
    "print(f\"총 {len(test_members)}명의 테스트데이터가 모였습니다!!\")\n",
    "\n",
    "for category in categories:\n",
    "    print(f\"{category}에 학습데이터 {len(os.listdir(train_data_base+category))}개 \")\n",
    "    train_data_size += len(os.listdir(train_data_base+category))\n",
    "print(f\"총 {train_data_size}개의 학습데이터가 모였습니다!!\")\n",
    "\n",
    "for category in categories:\n",
    "    print(f\"{category}에 테스트데이터 {len(os.listdir(test_data_base+category))}개 \")    \n",
    "    test_data_size += len(os.listdir(test_data_base+category))\n",
    "print(f\"총 {test_data_size}개의 학습데이터가 모였습니다!!\")    "
   ]
  },
  {
   "cell_type": "code",
   "execution_count": 9,
   "id": "25452cbb",
   "metadata": {},
   "outputs": [],
   "source": [
    "import tensorflow as tf\n",
    "from tensorflow import keras\n",
    "\n",
    "import numpy as np\n",
    "import matplotlib.pyplot as plt\n",
    "import os\n",
    "from PIL import Image\n",
    "import glob\n",
    "\n",
    "def resize_images(img_path):\n",
    "\timages=glob.glob(img_path + \"/*.jpg\")  \n",
    "    \n",
    "\t#print(len(images), \" images to be resized.\")\n",
    "\n",
    "    # 파일마다 모두 28x28 사이즈로 바꾸어 저장합니다.\n",
    "\ttarget_size=(n_img_size,n_img_size)\n",
    "\tfor img in images:\n",
    "\t\told_img=Image.open(img)\n",
    "\t\tnew_img=old_img.resize(target_size,Image.ANTIALIAS)\n",
    "\t\tnew_img.save(img, \"JPEG\")\n",
    "    \n",
    "\tprint(len(images), \" images resized.\")"
   ]
  },
  {
   "cell_type": "code",
   "execution_count": 10,
   "id": "53d5c10e",
   "metadata": {},
   "outputs": [
    {
     "name": "stdout",
     "output_type": "stream",
     "text": [
      "800  images resized.\n",
      "800  images resized.\n",
      "800  images resized.\n",
      "학습 이미지 resize 완료!\n",
      "100  images resized.\n",
      "100  images resized.\n",
      "100  images resized.\n",
      "테스트 이미지 resize 완료!\n"
     ]
    }
   ],
   "source": [
    "for category in categories:\n",
    "    resize_images(train_data_base+category)\n",
    "print(\"학습 이미지 resize 완료!\")\n",
    "\n",
    "for category in categories:\n",
    "    resize_images(test_data_base+category)\n",
    "print(\"테스트 이미지 resize 완료!\")    "
   ]
  },
  {
   "cell_type": "code",
   "execution_count": 11,
   "id": "be3aa0f8",
   "metadata": {},
   "outputs": [
    {
     "name": "stdout",
     "output_type": "stream",
     "text": [
      "로드한 이미지 개수는 2400 입니다.\n",
      "x_train shape: (2400, 56, 56, 3)\n",
      "y_train shape: (2400,)\n",
      "로드한 이미지 개수는 300 입니다.\n",
      "x_test shape: (300, 56, 56, 3)\n",
      "y_test shape: (300,)\n"
     ]
    }
   ],
   "source": [
    "import numpy as np\n",
    "\n",
    "def load_data(img_path, number_of_data):  # 가위바위보 이미지 개수 총합에 주의하세요.\n",
    "    # 가위 : 0, 바위 : 1, 보 : 2\n",
    "     #img_size=56\n",
    "    color=3\n",
    "    #이미지 데이터와 라벨(가위 : 0, 바위 : 1, 보 : 2) 데이터를 담을 행렬(matrix) 영역을 생성합니다.\n",
    "    imgs=np.zeros(number_of_data*n_img_size*n_img_size*color,dtype=np.int32).reshape(number_of_data,n_img_size,n_img_size,color)\n",
    "    labels=np.zeros(number_of_data,dtype=np.int32)\n",
    "\n",
    "    idx=0\n",
    "    for file in glob.iglob(img_path+'/scissor/*.jpg'):\n",
    "        img = np.array(Image.open(file),dtype=np.int32)\n",
    "        imgs[idx,:,:,:]=img    # 데이터 영역에 이미지 행렬을 복사\n",
    "        labels[idx]=0   # 가위 : 0\n",
    "        idx=idx+1\n",
    "\n",
    "    for file in glob.iglob(img_path+'/rock/*.jpg'):\n",
    "        img = np.array(Image.open(file),dtype=np.int32)\n",
    "        imgs[idx,:,:,:]=img    # 데이터 영역에 이미지 행렬을 복사\n",
    "        labels[idx]=1   # 바위 : 1\n",
    "        idx=idx+1  \n",
    "    \n",
    "    for file in glob.iglob(img_path+'/paper/*.jpg'):\n",
    "        img = np.array(Image.open(file),dtype=np.int32)\n",
    "        imgs[idx,:,:,:]=img    # 데이터 영역에 이미지 행렬을 복사\n",
    "        labels[idx]=2   # 보 : 2\n",
    "        idx=idx+1\n",
    "        \n",
    "    print(\"로드한 이미지 개수는\", idx,\"입니다.\")\n",
    "    return imgs, labels\n",
    "\n",
    "(x_train, y_train)=load_data(train_data_base, train_data_size)\n",
    "x_train_norm = x_train/255.0   # 입력은 0~1 사이의 값으로 정규화\n",
    "\n",
    "print(\"x_train shape: {}\".format(x_train.shape))\n",
    "print(\"y_train shape: {}\".format(y_train.shape))\n",
    "\n",
    "(x_test, y_test)=load_data(test_data_base, test_data_size)\n",
    "x_test_norm = x_test/255.0   # 입력은 0~1 사이의 값으로 정규화\n",
    "\n",
    "print(\"x_test shape: {}\".format(x_test.shape))\n",
    "print(\"y_test shape: {}\".format(y_test.shape))"
   ]
  },
  {
   "cell_type": "code",
   "execution_count": 12,
   "id": "e437a420",
   "metadata": {},
   "outputs": [
    {
     "name": "stdout",
     "output_type": "stream",
     "text": [
      "Model: \"sequential_1\"\n",
      "_________________________________________________________________\n",
      "Layer (type)                 Output Shape              Param #   \n",
      "=================================================================\n",
      "conv2d_2 (Conv2D)            (None, 54, 54, 64)        1792      \n",
      "_________________________________________________________________\n",
      "max_pooling2d_2 (MaxPooling2 (None, 27, 27, 64)        0         \n",
      "_________________________________________________________________\n",
      "conv2d_3 (Conv2D)            (None, 25, 25, 128)       73856     \n",
      "_________________________________________________________________\n",
      "max_pooling2d_3 (MaxPooling2 (None, 12, 12, 128)       0         \n",
      "_________________________________________________________________\n",
      "flatten_1 (Flatten)          (None, 18432)             0         \n",
      "_________________________________________________________________\n",
      "dense_2 (Dense)              (None, 256)               4718848   \n",
      "_________________________________________________________________\n",
      "dropout_1 (Dropout)          (None, 256)               0         \n",
      "_________________________________________________________________\n",
      "dense_3 (Dense)              (None, 3)                 771       \n",
      "=================================================================\n",
      "Total params: 4,795,267\n",
      "Trainable params: 4,795,267\n",
      "Non-trainable params: 0\n",
      "_________________________________________________________________\n",
      "Epoch 1/25\n",
      "24/24 [==============================] - 2s 15ms/step - loss: 1.0873 - accuracy: 0.4417\n",
      "Epoch 2/25\n",
      "24/24 [==============================] - 0s 15ms/step - loss: 0.7148 - accuracy: 0.6921\n",
      "Epoch 3/25\n",
      "24/24 [==============================] - 0s 15ms/step - loss: 0.5223 - accuracy: 0.7992\n",
      "Epoch 4/25\n",
      "24/24 [==============================] - 0s 15ms/step - loss: 0.3937 - accuracy: 0.8496\n",
      "Epoch 5/25\n",
      "24/24 [==============================] - 0s 15ms/step - loss: 0.3014 - accuracy: 0.8875\n",
      "Epoch 6/25\n",
      "24/24 [==============================] - 0s 15ms/step - loss: 0.2419 - accuracy: 0.9154\n",
      "Epoch 7/25\n",
      "24/24 [==============================] - 0s 15ms/step - loss: 0.1834 - accuracy: 0.9379\n",
      "Epoch 8/25\n",
      "24/24 [==============================] - 0s 15ms/step - loss: 0.1300 - accuracy: 0.9567\n",
      "Epoch 9/25\n",
      "24/24 [==============================] - 0s 15ms/step - loss: 0.1155 - accuracy: 0.9592\n",
      "Epoch 10/25\n",
      "24/24 [==============================] - 0s 15ms/step - loss: 0.0983 - accuracy: 0.9663\n",
      "Epoch 11/25\n",
      "24/24 [==============================] - 0s 15ms/step - loss: 0.0874 - accuracy: 0.9779\n",
      "Epoch 12/25\n",
      "24/24 [==============================] - 0s 15ms/step - loss: 0.0530 - accuracy: 0.9858\n",
      "Epoch 13/25\n",
      "24/24 [==============================] - 0s 15ms/step - loss: 0.0458 - accuracy: 0.9871\n",
      "Epoch 14/25\n",
      "24/24 [==============================] - 0s 15ms/step - loss: 0.0439 - accuracy: 0.9879\n",
      "Epoch 15/25\n",
      "24/24 [==============================] - 0s 15ms/step - loss: 0.0337 - accuracy: 0.9917\n",
      "Epoch 16/25\n",
      "24/24 [==============================] - 0s 15ms/step - loss: 0.0273 - accuracy: 0.9942\n",
      "Epoch 17/25\n",
      "24/24 [==============================] - 0s 15ms/step - loss: 0.0286 - accuracy: 0.9929\n",
      "Epoch 18/25\n",
      "24/24 [==============================] - 0s 15ms/step - loss: 0.0267 - accuracy: 0.9904\n",
      "Epoch 19/25\n",
      "24/24 [==============================] - 0s 15ms/step - loss: 0.0170 - accuracy: 0.9971\n",
      "Epoch 20/25\n",
      "24/24 [==============================] - 0s 15ms/step - loss: 0.0120 - accuracy: 0.9987\n",
      "Epoch 21/25\n",
      "24/24 [==============================] - 0s 15ms/step - loss: 0.0133 - accuracy: 0.9979\n",
      "Epoch 22/25\n",
      "24/24 [==============================] - 0s 15ms/step - loss: 0.0170 - accuracy: 0.9958\n",
      "Epoch 23/25\n",
      "24/24 [==============================] - 0s 15ms/step - loss: 0.0112 - accuracy: 0.9971\n",
      "Epoch 24/25\n",
      "24/24 [==============================] - 0s 15ms/step - loss: 0.0094 - accuracy: 0.9979\n",
      "Epoch 25/25\n",
      "24/24 [==============================] - 0s 15ms/step - loss: 0.0081 - accuracy: 0.9996\n",
      "10/10 - 0s - loss: 1.3373 - accuracy: 0.8100\n",
      "test_loss: 1.3373208045959473 \n",
      "test_accuracy: 0.8100000023841858\n"
     ]
    }
   ],
   "source": [
    "# 바꿔 볼 수 있는 하이퍼파라미터들\n",
    "n_channel_1=64\n",
    "n_channel_2=128\n",
    "n_dense=256\n",
    "n_train_epoch=25\n",
    "n_batch_size=100\n",
    "\n",
    "model=keras.models.Sequential()\n",
    "model.add(keras.layers.Conv2D(n_channel_1, (3,3), activation='relu', input_shape=(n_img_size,n_img_size,3)))\n",
    "model.add(keras.layers.MaxPool2D(2,2))\n",
    "model.add(keras.layers.Conv2D(n_channel_2, (3,3), activation='relu'))\n",
    "model.add(keras.layers.MaxPooling2D((2,2)))\n",
    "model.add(keras.layers.Flatten())\n",
    "model.add(keras.layers.Dense(n_dense, activation='relu'))\n",
    "model.add(keras.layers.Dropout(0.5))\n",
    "model.add(keras.layers.Dense(3, activation='softmax'))\n",
    "\n",
    "model.summary()\n",
    "model.compile(optimizer='adam',\n",
    "             loss='sparse_categorical_crossentropy',\n",
    "             metrics=['accuracy'])\n",
    "\n",
    "# 모델 훈련\n",
    "model.fit(x_train_norm, y_train, epochs=n_train_epoch, batch_size=n_batch_size)\n",
    "\n",
    "# 모델 시험\n",
    "test_loss, test_accuracy = model.evaluate(x_test_norm, y_test, verbose=2)\n",
    "print(\"test_loss: {} \".format(test_loss))\n",
    "print(\"test_accuracy: {}\".format(test_accuracy))"
   ]
  },
  {
   "cell_type": "code",
   "execution_count": 122,
   "id": "62fef793",
   "metadata": {},
   "outputs": [
    {
     "name": "stdout",
     "output_type": "stream",
     "text": [
      "model.predict() 결과 :  [3.8891055e-02 9.6110851e-01 5.0622759e-07]\n",
      "model이 추론한 가장 가능성이 높은 결과 :  1\n",
      "실제 데이터의 라벨 :  0\n"
     ]
    }
   ],
   "source": [
    "predicted_result = model.predict(x_test_norm)  # model이 추론한 확률값. \n",
    "predicted_labels = np.argmax(predicted_result, axis=1)\n",
    "\n",
    "idx=1  #1번째 x_test를 살펴보자. \n",
    "print('model.predict() 결과 : ', predicted_result[idx])\n",
    "print('model이 추론한 가장 가능성이 높은 결과 : ', predicted_labels[idx])\n",
    "print('실제 데이터의 라벨 : ', y_test[idx])"
   ]
  },
  {
   "cell_type": "code",
   "execution_count": 123,
   "id": "04945bf0",
   "metadata": {},
   "outputs": [
    {
     "data": {
      "image/png": "[encoded data removed]",
      "text/plain": [
       "<Figure size 432x288 with 1 Axes>"
      ]
     },
     "metadata": {
      "needs_background": "light"
     },
     "output_type": "display_data"
    }
   ],
   "source": [
    "plt.imshow(x_test[idx],cmap=plt.cm.binary)\n",
    "plt.show()"
   ]
  },
  {
   "cell_type": "code",
   "execution_count": 124,
   "id": "486cad37",
   "metadata": {
    "scrolled": true
   },
   "outputs": [
    {
     "name": "stdout",
     "output_type": "stream",
     "text": [
      "예측확률분포: [3.5582943e-07 9.9999964e-01 4.0863271e-10]\n",
      "라벨: 0, 예측결과:1\n"
     ]
    },
    {
     "data": {
      "image/png": "[encoded data removed]",
      "text/plain": [
       "<Figure size 432x288 with 1 Axes>"
      ]
     },
     "metadata": {
      "needs_background": "light"
     },
     "output_type": "display_data"
    },
    {
     "name": "stdout",
     "output_type": "stream",
     "text": [
      "예측확률분포: [2.9954335e-03 1.7632996e-07 9.9700445e-01]\n",
      "라벨: 0, 예측결과:2\n"
     ]
    },
    {
     "data": {
      "image/png": "[encoded data removed]",
      "text/plain": [
       "<Figure size 432x288 with 1 Axes>"
      ]
     },
     "metadata": {
      "needs_background": "light"
     },
     "output_type": "display_data"
    },
    {
     "name": "stdout",
     "output_type": "stream",
     "text": [
      "예측확률분포: [2.0671908e-07 9.9999976e-01 4.7944798e-10]\n",
      "라벨: 0, 예측결과:1\n"
     ]
    },
    {
     "data": {
      "image/png": "[encoded data removed]",
      "text/plain": [
       "<Figure size 432x288 with 1 Axes>"
      ]
     },
     "metadata": {
      "needs_background": "light"
     },
     "output_type": "display_data"
    },
    {
     "name": "stdout",
     "output_type": "stream",
     "text": [
      "예측확률분포: [1.7176312e-06 9.9999833e-01 5.3993716e-09]\n",
      "라벨: 0, 예측결과:1\n"
     ]
    },
    {
     "data": {
      "image/png": "[encoded data removed]",
      "text/plain": [
       "<Figure size 432x288 with 1 Axes>"
      ]
     },
     "metadata": {
      "needs_background": "light"
     },
     "output_type": "display_data"
    },
    {
     "name": "stdout",
     "output_type": "stream",
     "text": [
      "예측확률분포: [1.49798915e-02 9.85019922e-01 2.59655422e-07]\n",
      "라벨: 0, 예측결과:1\n"
     ]
    },
    {
     "data": {
      "image/png": "[encoded data removed]",
      "text/plain": [
       "<Figure size 432x288 with 1 Axes>"
      ]
     },
     "metadata": {
      "needs_background": "light"
     },
     "output_type": "display_data"
    }
   ],
   "source": [
    "import random\n",
    "wrong_predict_list=[]\n",
    "for i, _ in enumerate(predicted_labels):\n",
    "    # i번째 test_labels와 y_test가 다른 경우만 모은다\n",
    "    if predicted_labels[i] != y_test[i]:\n",
    "        wrong_predict_list.append(i)\n",
    "        \n",
    "#wrong_predict_list에서 랜덤하게 5개만 뽑아서 출력\n",
    "samples = random.choices(population=wrong_predict_list, k=5)\n",
    "\n",
    "for n in samples:\n",
    "    print(\"예측확률분포: \" + str(predicted_result[n]))\n",
    "    print(\"라벨: \" + str(y_test[n]) + \", 예측결과:\" + str(predicted_labels[n]))\n",
    "    plt.imshow(x_test[n], cmap=plt.cm.binary)\n",
    "    plt.show()"
   ]
  },
  {
   "cell_type": "markdown",
   "id": "6ad603cf",
   "metadata": {},
   "source": [
    "## v.1.0 가위, 바위, 이미지 분류하기\n",
    "과제 내용 : 가위, 바위, 보 이미지를 데이터를 준비하고 CNN 으로 학습하여 다른 팀원의 이미지 데이터에 model를 적용해 본다.\n",
    "* accuracy : 68.7 %\n",
    "* 낮은 accuracy 이유 \n",
    "1. 대부분 이미지 파일 생성시 연속촬영을 사용하여 실제 학습에 사용되는 data set 이 작은 것 같다.\n",
    "2. 데이터의 중복성과 더불어 실제 data set도 부족\n",
    "3. 테스트 데이터 set도 1명에서 나온 데이터라 정확도 향상에 영향을 준것으로 보인다. 실제로  사람마다 accuracy 차이가 많이 발생했음. \n",
    "\n",
    "* 9명 전체 데이터를 섞은 후에 그 중에서 랜덤으로 학습데이터와 시험 테이터를 분리한 후에 모델링 해 볼 필요가 있음"
   ]
  },
  {
   "cell_type": "markdown",
   "id": "b9e5d37c",
   "metadata": {},
   "source": [
    "## v.1.1 이미지해상도를 28*28에서 56*56으로 조정\n",
    "* accuracy : 81.0 %\n",
    "* 이미지 학습에서 해상도에 영향을 받는 것으로 추정됨"
   ]
  }
 ],
 "metadata": {
  "kernelspec": {
   "display_name": "Python 3 (ipykernel)",
   "language": "python",
   "name": "python3"
  },
  "language_info": {
   "codemirror_mode": {
    "name": "ipython",
    "version": 3
   },
   "file_extension": ".py",
   "mimetype": "text/x-python",
   "name": "python",
   "nbconvert_exporter": "python",
   "pygments_lexer": "ipython3",
   "version": "3.9.7"
  }
 },
 "nbformat": 4,
 "nbformat_minor": 5
}
